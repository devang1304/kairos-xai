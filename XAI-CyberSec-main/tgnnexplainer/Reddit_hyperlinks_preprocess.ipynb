{
 "cells": [
  {
   "cell_type": "code",
   "execution_count": 1,
   "id": "6d74658c-be39-4e48-8e30-6d8fd7d99d68",
   "metadata": {
    "id": "6d74658c-be39-4e48-8e30-6d8fd7d99d68"
   },
   "outputs": [],
   "source": [
    "import numpy as np\n",
    "import pandas as pd"
   ]
  },
  {
   "cell_type": "code",
   "execution_count": 3,
   "id": "9e7c4cb1-bf73-422d-9217-945a589a4951",
   "metadata": {
    "id": "9e7c4cb1-bf73-422d-9217-945a589a4951"
   },
   "outputs": [],
   "source": [
    "df=pd.read_csv('/Users/hetavpatel/Desktop/Data Science/Grad DS Work/DSCI 789 Explainable AI/XAI-Cybersec/XAI-CyberSec/tgnnexplainer/soc-redditHyperlinks-body.tsv',sep='\\t')\n",
    "# df=rows_count = df[df.iloc[:, 3] == 1]"
   ]
  },
  {
   "cell_type": "code",
   "execution_count": 4,
   "id": "f89b6e09-e227-4da7-88e3-39e8dd1f6ef1",
   "metadata": {
    "id": "f89b6e09-e227-4da7-88e3-39e8dd1f6ef1"
   },
   "outputs": [],
   "source": [
    "#Transform features into seperate columns.\n",
    "split_df = df['PROPERTIES'].str.split(',', expand=True)\n",
    "split_df=split_df.apply(pd.to_numeric, errors='coerce').astype('float64')"
   ]
  },
  {
   "cell_type": "code",
   "execution_count": 5,
   "id": "1824da40-59b8-45a7-9f98-3784de5482df",
   "metadata": {
    "id": "1824da40-59b8-45a7-9f98-3784de5482df"
   },
   "outputs": [],
   "source": [
    "df.columns=['i','u', 'POST_ID', 'ts',\n",
    "       'sentiment', 'PROPERTIES']"
   ]
  },
  {
   "cell_type": "code",
   "execution_count": 6,
   "id": "13185cb0-7271-4974-ac93-876387f1e373",
   "metadata": {
    "id": "13185cb0-7271-4974-ac93-876387f1e373"
   },
   "outputs": [],
   "source": [
    "#normalize all numerical columns\n",
    "normed_df = split_df.apply(lambda x: (x - x.min()) / (x.max() - x.min()))"
   ]
  },
  {
   "cell_type": "code",
   "execution_count": 7,
   "id": "c4c242e9-bc71-4f70-9e0d-b7e9ca42ac64",
   "metadata": {
    "id": "c4c242e9-bc71-4f70-9e0d-b7e9ca42ac64"
   },
   "outputs": [],
   "source": [
    "grouped = df.groupby(['u', 'i']).size().reset_index(name='counts')\n",
    "ndf = df.merge(grouped, on=['u', 'i'], how='left')"
   ]
  },
  {
   "cell_type": "code",
   "execution_count": 8,
   "id": "32679b30-2e1c-4d77-b6b9-d159da61d261",
   "metadata": {
    "id": "32679b30-2e1c-4d77-b6b9-d159da61d261"
   },
   "outputs": [],
   "source": [
    "ndf.columns=['i','u', 'POST_ID', 'ts',\n",
    "       'sentiment', 'PROPERTIES','counts']"
   ]
  },
  {
   "cell_type": "code",
   "execution_count": 9,
   "id": "6c58d770-f1d6-4670-ba94-832779cffd1f",
   "metadata": {
    "id": "6c58d770-f1d6-4670-ba94-832779cffd1f"
   },
   "outputs": [],
   "source": [
    "ndf = ndf[['i', 'u', 'ts', 'sentiment', 'counts']]\n",
    "finaldf=pd.concat([ndf,normed_df],axis=1)\n",
    "\n",
    "# Keep the original column names for the first three columns\n",
    "new_col_names = finaldf.columns[:3].tolist()\n",
    "\n",
    "# Generate new names for the rest of the columns\n",
    "new_col_names += ['f' + str(i+1) for i in range(finaldf.shape[1]-3)]\n",
    "\n",
    "# Create a dictionary of old column names to new column names\n",
    "col_name_dict = dict(zip(finaldf.columns, new_col_names))\n",
    "\n",
    "# Rename columns\n",
    "xdf = finaldf.rename(columns=col_name_dict)"
   ]
  },
  {
   "cell_type": "code",
   "execution_count": 10,
   "id": "3ee9a5be-1bf8-4883-8d56-440c228da424",
   "metadata": {
    "id": "3ee9a5be-1bf8-4883-8d56-440c228da424"
   },
   "outputs": [
    {
     "name": "stderr",
     "output_type": "stream",
     "text": [
      "/var/folders/xr/0vdqp3k12gn7yn75q4893hsm0000gn/T/ipykernel_83232/3159772687.py:2: FutureWarning: Setting an item of incompatible dtype is deprecated and will raise in a future error of pandas. Value '0         1.0\n",
      "1         0.0\n",
      "2         1.0\n",
      "3         1.0\n",
      "4         1.0\n",
      "         ... \n",
      "286556    1.0\n",
      "286557    1.0\n",
      "286558    1.0\n",
      "286559    1.0\n",
      "286560    1.0\n",
      "Name: f1, Length: 286561, dtype: float64' has dtype incompatible with int64, please explicitly cast to a compatible dtype first.\n",
      "  xdf.iloc[:, 3] = (xdf.iloc[:, 3] - xdf.iloc[:, 3].min()) / (xdf.iloc[:, 3].max() - xdf.iloc[:, 3].min())\n",
      "/var/folders/xr/0vdqp3k12gn7yn75q4893hsm0000gn/T/ipykernel_83232/3159772687.py:3: FutureWarning: Setting an item of incompatible dtype is deprecated and will raise in a future error of pandas. Value '0         0.069470\n",
      "1         0.000000\n",
      "2         0.000000\n",
      "3         0.023766\n",
      "4         0.020110\n",
      "            ...   \n",
      "286556    0.000000\n",
      "286557    0.000000\n",
      "286558    0.016453\n",
      "286559    0.000000\n",
      "286560    0.000000\n",
      "Name: f2, Length: 286561, dtype: float64' has dtype incompatible with int64, please explicitly cast to a compatible dtype first.\n",
      "  xdf.iloc[:, 4] = (xdf.iloc[:, 4] - xdf.iloc[:, 4].min()) / (xdf.iloc[:, 4].max() - xdf.iloc[:, 4].min())\n"
     ]
    }
   ],
   "source": [
    "#forgot to normalize these columns\n",
    "xdf.iloc[:, 3] = (xdf.iloc[:, 3] - xdf.iloc[:, 3].min()) / (xdf.iloc[:, 3].max() - xdf.iloc[:, 3].min())\n",
    "xdf.iloc[:, 4] = (xdf.iloc[:, 4] - xdf.iloc[:, 4].min()) / (xdf.iloc[:, 4].max() - xdf.iloc[:, 4].min())"
   ]
  },
  {
   "cell_type": "code",
   "execution_count": 11,
   "id": "762d2ad4-f0bc-4199-890c-7f8c425bbd72",
   "metadata": {
    "id": "762d2ad4-f0bc-4199-890c-7f8c425bbd72"
   },
   "outputs": [],
   "source": [
    "# Convert the column to datetime format\n",
    "xdf['ts'] = pd.to_datetime(xdf['ts'])\n",
    "\n",
    "# Convert datetime column to Unix timestamp\n",
    "xdf['ts'] = (xdf['ts'].astype(int) / 1e9).astype(int)"
   ]
  },
  {
   "cell_type": "code",
   "execution_count": 12,
   "id": "aca38d2f-0210-4303-b525-f2ffb5584cee",
   "metadata": {
    "id": "aca38d2f-0210-4303-b525-f2ffb5584cee"
   },
   "outputs": [],
   "source": [
    "# Combine the values from both columns\n",
    "combined = pd.concat([xdf['u'], xdf['i']])\n",
    "\n",
    "# Get the unique values and factorize\n",
    "labels, unique = pd.factorize(combined.unique())\n",
    "\n",
    "# Create a dictionary mapping string to integer ID\n",
    "mapping = dict(zip(unique, labels))\n",
    "\n",
    "# Use the dictionary to map the string values to integer ID in the original DataFrame\n",
    "xdf['u'] = xdf['u'].map(mapping)\n",
    "xdf['i'] = xdf['i'].map(mapping)"
   ]
  },
  {
   "cell_type": "code",
   "execution_count": 13,
   "id": "58c30e58-74f1-4011-946b-059641ebfe2c",
   "metadata": {
    "id": "58c30e58-74f1-4011-946b-059641ebfe2c",
    "outputId": "3d045a2d-28b4-4034-ccb2-97a6446fd7aa"
   },
   "outputs": [
    {
     "name": "stdout",
     "output_type": "stream",
     "text": [
      "35775\n",
      "27863\n"
     ]
    }
   ],
   "source": [
    "print(xdf.iloc[:, 0].max())\n",
    "print(xdf.iloc[:, 0].nunique())"
   ]
  },
  {
   "cell_type": "code",
   "execution_count": 14,
   "id": "54bbfce0-799b-453b-a315-80a1b984397c",
   "metadata": {
    "id": "54bbfce0-799b-453b-a315-80a1b984397c"
   },
   "outputs": [],
   "source": [
    "#add label column, not relevant for unipartite graph.\n",
    "xdf['label']=0"
   ]
  },
  {
   "cell_type": "code",
   "execution_count": 15,
   "id": "1da27715-8029-4fbf-a9b8-d19274a5360b",
   "metadata": {
    "id": "1da27715-8029-4fbf-a9b8-d19274a5360b",
    "outputId": "4fb29d96-e437-4b03-82ee-d35465f6decc"
   },
   "outputs": [
    {
     "data": {
      "text/html": [
       "<div>\n",
       "<style scoped>\n",
       "    .dataframe tbody tr th:only-of-type {\n",
       "        vertical-align: middle;\n",
       "    }\n",
       "\n",
       "    .dataframe tbody tr th {\n",
       "        vertical-align: top;\n",
       "    }\n",
       "\n",
       "    .dataframe thead th {\n",
       "        text-align: right;\n",
       "    }\n",
       "</style>\n",
       "<table border=\"1\" class=\"dataframe\">\n",
       "  <thead>\n",
       "    <tr style=\"text-align: right;\">\n",
       "      <th></th>\n",
       "      <th>i</th>\n",
       "      <th>u</th>\n",
       "      <th>ts</th>\n",
       "      <th>f1</th>\n",
       "      <th>f2</th>\n",
       "      <th>f3</th>\n",
       "      <th>f4</th>\n",
       "      <th>f5</th>\n",
       "      <th>f6</th>\n",
       "      <th>f7</th>\n",
       "      <th>...</th>\n",
       "      <th>f80</th>\n",
       "      <th>f81</th>\n",
       "      <th>f82</th>\n",
       "      <th>f83</th>\n",
       "      <th>f84</th>\n",
       "      <th>f85</th>\n",
       "      <th>f86</th>\n",
       "      <th>f87</th>\n",
       "      <th>f88</th>\n",
       "      <th>label</th>\n",
       "    </tr>\n",
       "  </thead>\n",
       "  <tbody>\n",
       "    <tr>\n",
       "      <th>0</th>\n",
       "      <td>55</td>\n",
       "      <td>0</td>\n",
       "      <td>1388507998</td>\n",
       "      <td>1.0</td>\n",
       "      <td>0.069470</td>\n",
       "      <td>0.007186</td>\n",
       "      <td>0.006333</td>\n",
       "      <td>0.754070</td>\n",
       "      <td>0.020411</td>\n",
       "      <td>0.088093</td>\n",
       "      <td>...</td>\n",
       "      <td>0.110405</td>\n",
       "      <td>0.0</td>\n",
       "      <td>0.0</td>\n",
       "      <td>0.0</td>\n",
       "      <td>0.0</td>\n",
       "      <td>0.0</td>\n",
       "      <td>0.0</td>\n",
       "      <td>0.000000</td>\n",
       "      <td>0.000000</td>\n",
       "      <td>0</td>\n",
       "    </tr>\n",
       "    <tr>\n",
       "      <th>1</th>\n",
       "      <td>5599</td>\n",
       "      <td>1</td>\n",
       "      <td>1388513917</td>\n",
       "      <td>0.0</td>\n",
       "      <td>0.000000</td>\n",
       "      <td>0.001262</td>\n",
       "      <td>0.001246</td>\n",
       "      <td>0.739638</td>\n",
       "      <td>0.023245</td>\n",
       "      <td>0.049930</td>\n",
       "      <td>...</td>\n",
       "      <td>0.213450</td>\n",
       "      <td>0.0</td>\n",
       "      <td>0.0</td>\n",
       "      <td>0.0</td>\n",
       "      <td>0.0</td>\n",
       "      <td>0.0</td>\n",
       "      <td>0.0</td>\n",
       "      <td>0.000000</td>\n",
       "      <td>0.000000</td>\n",
       "      <td>0</td>\n",
       "    </tr>\n",
       "    <tr>\n",
       "      <th>2</th>\n",
       "      <td>4502</td>\n",
       "      <td>2</td>\n",
       "      <td>1388588075</td>\n",
       "      <td>1.0</td>\n",
       "      <td>0.000000</td>\n",
       "      <td>0.000874</td>\n",
       "      <td>0.000916</td>\n",
       "      <td>0.750365</td>\n",
       "      <td>0.027626</td>\n",
       "      <td>0.083402</td>\n",
       "      <td>...</td>\n",
       "      <td>0.000000</td>\n",
       "      <td>0.0</td>\n",
       "      <td>0.0</td>\n",
       "      <td>0.0</td>\n",
       "      <td>0.0</td>\n",
       "      <td>0.0</td>\n",
       "      <td>0.0</td>\n",
       "      <td>0.000000</td>\n",
       "      <td>0.000000</td>\n",
       "      <td>0</td>\n",
       "    </tr>\n",
       "    <tr>\n",
       "      <th>3</th>\n",
       "      <td>44</td>\n",
       "      <td>3</td>\n",
       "      <td>1388511475</td>\n",
       "      <td>1.0</td>\n",
       "      <td>0.023766</td>\n",
       "      <td>0.026099</td>\n",
       "      <td>0.022889</td>\n",
       "      <td>0.770335</td>\n",
       "      <td>0.002060</td>\n",
       "      <td>0.058413</td>\n",
       "      <td>...</td>\n",
       "      <td>0.066703</td>\n",
       "      <td>0.0</td>\n",
       "      <td>0.0</td>\n",
       "      <td>0.0</td>\n",
       "      <td>0.0</td>\n",
       "      <td>0.0</td>\n",
       "      <td>0.0</td>\n",
       "      <td>0.203125</td>\n",
       "      <td>0.017857</td>\n",
       "      <td>0</td>\n",
       "    </tr>\n",
       "    <tr>\n",
       "      <th>4</th>\n",
       "      <td>3835</td>\n",
       "      <td>4</td>\n",
       "      <td>1388544673</td>\n",
       "      <td>1.0</td>\n",
       "      <td>0.020110</td>\n",
       "      <td>0.016169</td>\n",
       "      <td>0.014573</td>\n",
       "      <td>0.775902</td>\n",
       "      <td>0.008189</td>\n",
       "      <td>0.025138</td>\n",
       "      <td>...</td>\n",
       "      <td>0.080044</td>\n",
       "      <td>0.0</td>\n",
       "      <td>0.0</td>\n",
       "      <td>0.0</td>\n",
       "      <td>0.0</td>\n",
       "      <td>0.0</td>\n",
       "      <td>0.0</td>\n",
       "      <td>0.000000</td>\n",
       "      <td>0.028571</td>\n",
       "      <td>0</td>\n",
       "    </tr>\n",
       "  </tbody>\n",
       "</table>\n",
       "<p>5 rows × 92 columns</p>\n",
       "</div>"
      ],
      "text/plain": [
       "      i  u          ts   f1        f2        f3        f4        f5        f6  \\\n",
       "0    55  0  1388507998  1.0  0.069470  0.007186  0.006333  0.754070  0.020411   \n",
       "1  5599  1  1388513917  0.0  0.000000  0.001262  0.001246  0.739638  0.023245   \n",
       "2  4502  2  1388588075  1.0  0.000000  0.000874  0.000916  0.750365  0.027626   \n",
       "3    44  3  1388511475  1.0  0.023766  0.026099  0.022889  0.770335  0.002060   \n",
       "4  3835  4  1388544673  1.0  0.020110  0.016169  0.014573  0.775902  0.008189   \n",
       "\n",
       "         f7  ...       f80  f81  f82  f83  f84  f85  f86       f87       f88  \\\n",
       "0  0.088093  ...  0.110405  0.0  0.0  0.0  0.0  0.0  0.0  0.000000  0.000000   \n",
       "1  0.049930  ...  0.213450  0.0  0.0  0.0  0.0  0.0  0.0  0.000000  0.000000   \n",
       "2  0.083402  ...  0.000000  0.0  0.0  0.0  0.0  0.0  0.0  0.000000  0.000000   \n",
       "3  0.058413  ...  0.066703  0.0  0.0  0.0  0.0  0.0  0.0  0.203125  0.017857   \n",
       "4  0.025138  ...  0.080044  0.0  0.0  0.0  0.0  0.0  0.0  0.000000  0.028571   \n",
       "\n",
       "   label  \n",
       "0      0  \n",
       "1      0  \n",
       "2      0  \n",
       "3      0  \n",
       "4      0  \n",
       "\n",
       "[5 rows x 92 columns]"
      ]
     },
     "execution_count": 15,
     "metadata": {},
     "output_type": "execute_result"
    }
   ],
   "source": [
    "xdf.head(5)"
   ]
  },
  {
   "cell_type": "code",
   "execution_count": 16,
   "id": "8c7bdfc0-fc0f-46cc-b626-f997275d6273",
   "metadata": {
    "id": "8c7bdfc0-fc0f-46cc-b626-f997275d6273"
   },
   "outputs": [
    {
     "data": {
      "text/plain": [
       "(286561, 92)"
      ]
     },
     "execution_count": 16,
     "metadata": {},
     "output_type": "execute_result"
    }
   ],
   "source": [
    "xdf.shape"
   ]
  },
  {
   "cell_type": "code",
   "execution_count": 17,
   "id": "2eae65bd-b28e-4b66-ab23-6e2ca588f2b1",
   "metadata": {
    "id": "2eae65bd-b28e-4b66-ab23-6e2ca588f2b1"
   },
   "outputs": [],
   "source": [
    "xdf.to_csv('reddit_hyperlinks.csv')"
   ]
  },
  {
   "cell_type": "code",
   "execution_count": null,
   "id": "debc2ddf-f37e-43b0-a04b-12513cc90651",
   "metadata": {
    "id": "debc2ddf-f37e-43b0-a04b-12513cc90651",
    "outputId": "96c22396-a7e5-422a-a356-4e13c3f2e87f"
   },
   "outputs": [
    {
     "name": "stdout",
     "output_type": "stream",
     "text": [
      "Number of unique values in the first column: 27863\n",
      "Number of unique values in the second column: 20606\n",
      "Number of unique values in the third column: 248453\n",
      "Number of non-zero values in the first column: 286561\n",
      "Number of non-zero values in the second column: 286561\n",
      "Number of non-zero values in the third column: 286561\n"
     ]
    }
   ],
   "source": [
    "unique_count_first_column = df.iloc[:, 0].nunique()\n",
    "unique_count_second_column = df.iloc[:, 1].nunique()\n",
    "unique_count_third_column = df.iloc[:, 3].nunique()\n",
    "\n",
    "print(f\"Number of unique values in the first column: {unique_count_first_column}\")\n",
    "print(f\"Number of unique values in the second column: {unique_count_second_column}\")\n",
    "print(f\"Number of unique values in the third column: {unique_count_third_column}\")\n",
    "\n",
    "\n",
    "nonzero_count_first_column = np.count_nonzero(df.iloc[:, 0])\n",
    "nonzero_count_second_column = np.count_nonzero(df.iloc[:, 1])\n",
    "nonzero_count_third_column = np.count_nonzero(df.iloc[:, 2])\n",
    "\n",
    "print(f\"Number of non-zero values in the first column: {nonzero_count_first_column}\")\n",
    "print(f\"Number of non-zero values in the second column: {nonzero_count_second_column}\")\n",
    "print(f\"Number of non-zero values in the third column: {nonzero_count_third_column}\")"
   ]
  },
  {
   "cell_type": "code",
   "execution_count": null,
   "id": "94508d18-718a-49e8-977c-4eca48d258c5",
   "metadata": {
    "id": "94508d18-718a-49e8-977c-4eca48d258c5"
   },
   "outputs": [],
   "source": []
  }
 ],
 "metadata": {
  "colab": {
   "provenance": []
  },
  "kernelspec": {
   "display_name": "Python 3",
   "language": "python",
   "name": "python3"
  },
  "language_info": {
   "codemirror_mode": {
    "name": "ipython",
    "version": 3
   },
   "file_extension": ".py",
   "mimetype": "text/x-python",
   "name": "python",
   "nbconvert_exporter": "python",
   "pygments_lexer": "ipython3",
   "version": "3.13.0"
  }
 },
 "nbformat": 4,
 "nbformat_minor": 5
}
